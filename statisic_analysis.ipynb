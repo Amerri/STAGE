{
 "cells": [
  {
   "cell_type": "code",
   "execution_count": 3,
   "metadata": {},
   "outputs": [],
   "source": [
    "import dgl\n",
    "import json\n",
    "file = 'data/mapper_dicts.json'\n",
    "with open(file,\"r\") as f: \n",
    "    maps = json.load(f)\n",
    "\n",
    "map_i2c = maps['mapper_idx2code']\n",
    "map_c2i = maps['mapper_code2idx']\n"
   ]
  },
  {
   "cell_type": "code",
   "execution_count": 5,
   "metadata": {},
   "outputs": [
    {
     "name": "stderr",
     "output_type": "stream",
     "text": [
      "/root/miniconda3/lib/python3.8/site-packages/openpyxl/styles/stylesheet.py:226: UserWarning: Workbook contains no default style, apply openpyxl's default\n",
      "  warn(\"Workbook contains no default style, apply openpyxl's default\")\n"
     ]
    }
   ],
   "source": [
    "import pandas as pd\n",
    "\n",
    "pri_basic = pd.read_excel('dataset/PRI_Basic.xlsx',skiprows=[1,2]) # 民营企业情况 （行业/区域）\n"
   ]
  },
  {
   "cell_type": "code",
   "execution_count": 7,
   "metadata": {},
   "outputs": [],
   "source": [
    "num_category = pri_basic['Nindcd'].value_counts() #行业数量"
   ]
  },
  {
   "cell_type": "code",
   "execution_count": 4,
   "metadata": {},
   "outputs": [],
   "source": [
    "file = 'data/dicts_hyper.json'\n",
    "with open(file,\"r\") as f: \n",
    "    dict_industry = json.load(f)"
   ]
  },
  {
   "cell_type": "code",
   "execution_count": 5,
   "metadata": {},
   "outputs": [
    {
     "name": "stdout",
     "output_type": "stream",
     "text": [
      "dict_keys(['I65', 'N77', 'K70', 'C37', 'S90', 'E48', 'C30', 'C39', 'C36', 'F51', 'L72', 'D44', 'J69', 'C13', 'C33', 'M74', 'F52', 'Q83', 'C27', 'R86', 'C28', 'C38', 'D45', 'C26', 'L71', 'B09', 'N78', 'I64', 'C29', 'G55', 'P82', 'G53', 'C35', 'C41', 'A02', 'C34', 'D46', 'R85', 'C17', 'C32', 'H61', 'J68', 'C25', 'R87', 'J67', 'C14', 'A03', 'C15', 'B06', 'C42', 'C20', 'B08', 'A01', 'G58', 'C22', 'C18', 'E50', 'C40', 'C31', 'A04', 'G60', 'C23', 'B11', 'C24', 'H62', 'G54', 'I63', 'C21', 'G59', 'C19', 'R88', 'G56', 'M73', 'B07', 'O80', 'J66', 'B10', 'E49', 'M75'])\n"
     ]
    }
   ],
   "source": [
    "print(dict_industry['industry'].keys())"
   ]
  }
 ],
 "metadata": {
  "kernelspec": {
   "display_name": "base",
   "language": "python",
   "name": "python3"
  },
  "language_info": {
   "codemirror_mode": {
    "name": "ipython",
    "version": 3
   },
   "file_extension": ".py",
   "mimetype": "text/x-python",
   "name": "python",
   "nbconvert_exporter": "python",
   "pygments_lexer": "ipython3",
   "version": "3.8.10"
  },
  "orig_nbformat": 4
 },
 "nbformat": 4,
 "nbformat_minor": 2
}
